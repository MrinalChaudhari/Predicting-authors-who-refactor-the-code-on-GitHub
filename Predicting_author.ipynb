{
 "cells": [
  {
   "cell_type": "code",
   "execution_count": 2,
   "metadata": {},
   "outputs": [],
   "source": [
    "import pandas as pd\n",
    "import numpy as np\n",
    "\n",
    "from sklearn.feature_extraction.text import TfidfVectorizer\n",
    "from sklearn.model_selection import train_test_split"
   ]
  },
  {
   "cell_type": "code",
   "execution_count": 3,
   "metadata": {},
   "outputs": [],
   "source": [
    "data=pd.read_csv(r\"..input\\authors.csv\")"
   ]
  },
  {
   "cell_type": "code",
   "execution_count": 4,
   "metadata": {},
   "outputs": [
    {
     "data": {
      "text/html": [
       "<div>\n",
       "<style scoped>\n",
       "    .dataframe tbody tr th:only-of-type {\n",
       "        vertical-align: middle;\n",
       "    }\n",
       "\n",
       "    .dataframe tbody tr th {\n",
       "        vertical-align: top;\n",
       "    }\n",
       "\n",
       "    .dataframe thead th {\n",
       "        text-align: right;\n",
       "    }\n",
       "</style>\n",
       "<table border=\"1\" class=\"dataframe\">\n",
       "  <thead>\n",
       "    <tr style=\"text-align: right;\">\n",
       "      <th></th>\n",
       "      <th>Name</th>\n",
       "      <th>CommitId</th>\n",
       "      <th>RefactoringType</th>\n",
       "      <th>FilePath</th>\n",
       "      <th>Class</th>\n",
       "      <th>RefactoringDetail</th>\n",
       "      <th>Message</th>\n",
       "      <th>AuthorName</th>\n",
       "      <th>AuthorEmail</th>\n",
       "    </tr>\n",
       "  </thead>\n",
       "  <tbody>\n",
       "    <tr>\n",
       "      <th>0</th>\n",
       "      <td>hibernate$hibernate-validator</td>\n",
       "      <td>a3af1683e63c9c800f486552e7e5002c24b6712b</td>\n",
       "      <td>Move Source Folder</td>\n",
       "      <td>src</td>\n",
       "      <td>NaN</td>\n",
       "      <td>Move Source Folder\\tsrc to hibernate-validator...</td>\n",
       "      <td>Moved the legacy validator code into hibernate...</td>\n",
       "      <td>Hardy Ferentschik</td>\n",
       "      <td>hibernate@ferentschik.de</td>\n",
       "    </tr>\n",
       "    <tr>\n",
       "      <th>1</th>\n",
       "      <td>hibernate$hibernate-validator</td>\n",
       "      <td>6d6c3deaf0b499e06077383d8d3add43f30ba099</td>\n",
       "      <td>Move Source Folder</td>\n",
       "      <td>hibernate-validator-legacy/src</td>\n",
       "      <td>NaN</td>\n",
       "      <td>Move Source Folder\\thibernate-validator-legacy...</td>\n",
       "      <td>Refactored build so that compile and test can ...</td>\n",
       "      <td>Hardy Ferentschik</td>\n",
       "      <td>hibernate@ferentschik.de</td>\n",
       "    </tr>\n",
       "    <tr>\n",
       "      <th>2</th>\n",
       "      <td>hibernate$hibernate-validator</td>\n",
       "      <td>6d6c3deaf0b499e06077383d8d3add43f30ba099</td>\n",
       "      <td>Move Source Folder</td>\n",
       "      <td>hibernate-validator-legacy/src/test</td>\n",
       "      <td>NaN</td>\n",
       "      <td>Move Source Folder\\thibernate-validator-legacy...</td>\n",
       "      <td>Refactored build so that compile and test can ...</td>\n",
       "      <td>Hardy Ferentschik</td>\n",
       "      <td>hibernate@ferentschik.de</td>\n",
       "    </tr>\n",
       "    <tr>\n",
       "      <th>3</th>\n",
       "      <td>hibernate$hibernate-validator</td>\n",
       "      <td>25350de39ef9484997999f6e6d8f00abc5d51546</td>\n",
       "      <td>Extract Variable</td>\n",
       "      <td>hibernate-validator/src/main/java/org/hibernat...</td>\n",
       "      <td>org.hibernate.validation.engine.ValidatorImpl</td>\n",
       "      <td>Extract Variable\\tleafBeanInstance : Object in...</td>\n",
       "      <td>BVAL-37 ConstraintDescriptor.getLeafValue()\\n\\...</td>\n",
       "      <td>Emmanuel Bernard</td>\n",
       "      <td>emmanuel@hibernate.org</td>\n",
       "    </tr>\n",
       "    <tr>\n",
       "      <th>4</th>\n",
       "      <td>hibernate$hibernate-validator</td>\n",
       "      <td>25350de39ef9484997999f6e6d8f00abc5d51546</td>\n",
       "      <td>Rename Method</td>\n",
       "      <td>hibernate-validator/src/main/java/org/hibernat...</td>\n",
       "      <td>org.hibernate.validation.engine.ValidatorImpl</td>\n",
       "      <td>Rename Method\\tpublic getBeanConstraints() : E...</td>\n",
       "      <td>BVAL-37 ConstraintDescriptor.getLeafValue()\\n\\...</td>\n",
       "      <td>Emmanuel Bernard</td>\n",
       "      <td>emmanuel@hibernate.org</td>\n",
       "    </tr>\n",
       "    <tr>\n",
       "      <th>5</th>\n",
       "      <td>hibernate$hibernate-validator</td>\n",
       "      <td>25350de39ef9484997999f6e6d8f00abc5d51546</td>\n",
       "      <td>Rename Method</td>\n",
       "      <td>hibernate-validator/src/main/java/org/hibernat...</td>\n",
       "      <td>org.hibernate.validation.impl.ElementDescripto...</td>\n",
       "      <td>Rename Method\\tpublic getReturnType() : Class ...</td>\n",
       "      <td>BVAL-37 ConstraintDescriptor.getLeafValue()\\n\\...</td>\n",
       "      <td>Emmanuel Bernard</td>\n",
       "      <td>emmanuel@hibernate.org</td>\n",
       "    </tr>\n",
       "    <tr>\n",
       "      <th>6</th>\n",
       "      <td>hibernate$hibernate-validator</td>\n",
       "      <td>eb4bfddcf617814939bacafa18055d096ba67c5b</td>\n",
       "      <td>Move Attribute</td>\n",
       "      <td>hibernate-validator/src/main/java/org/hibernat...</td>\n",
       "      <td>org.hibernate.validation.engine.ValidatorImpl</td>\n",
       "      <td>Move Attribute\\tpublic DEFAULT_GROUP_NAME : St...</td>\n",
       "      <td>minor cleanup and improvements for logging\\n\\n...</td>\n",
       "      <td>Hardy Ferentschik</td>\n",
       "      <td>hibernate@ferentschik.de</td>\n",
       "    </tr>\n",
       "    <tr>\n",
       "      <th>7</th>\n",
       "      <td>hibernate$hibernate-validator</td>\n",
       "      <td>bba15b47580d61655ef28be8e2dfe41595476b83</td>\n",
       "      <td>Rename Attribute</td>\n",
       "      <td>hibernate-validator/src/main/java/org/hibernat...</td>\n",
       "      <td>org.hibernate.validation.engine.MetaDataProvid...</td>\n",
       "      <td>Rename Attribute\\tconstraintMetaDataList : Lis...</td>\n",
       "      <td>Some javadoc cleanups and refactories\\n\\ngit-s...</td>\n",
       "      <td>Hardy Ferentschik</td>\n",
       "      <td>hibernate@ferentschik.de</td>\n",
       "    </tr>\n",
       "    <tr>\n",
       "      <th>8</th>\n",
       "      <td>hibernate$hibernate-validator</td>\n",
       "      <td>bba15b47580d61655ef28be8e2dfe41595476b83</td>\n",
       "      <td>Rename Attribute</td>\n",
       "      <td>hibernate-validator/src/main/java/org/hibernat...</td>\n",
       "      <td>org.hibernate.validation.impl.ConstraintDescri...</td>\n",
       "      <td>Rename Attribute\\tcontexts : Set&lt;String&gt; to gr...</td>\n",
       "      <td>Some javadoc cleanups and refactories\\n\\ngit-s...</td>\n",
       "      <td>Hardy Ferentschik</td>\n",
       "      <td>hibernate@ferentschik.de</td>\n",
       "    </tr>\n",
       "    <tr>\n",
       "      <th>9</th>\n",
       "      <td>hibernate$hibernate-validator</td>\n",
       "      <td>bba15b47580d61655ef28be8e2dfe41595476b83</td>\n",
       "      <td>Rename Method</td>\n",
       "      <td>hibernate-validator/src/main/java/org/hibernat...</td>\n",
       "      <td>org.hibernate.validation.engine.MetaDataProvid...</td>\n",
       "      <td>Rename Method\\tprivate getClassLevelMetadata(b...</td>\n",
       "      <td>Some javadoc cleanups and refactories\\n\\ngit-s...</td>\n",
       "      <td>Hardy Ferentschik</td>\n",
       "      <td>hibernate@ferentschik.de</td>\n",
       "    </tr>\n",
       "  </tbody>\n",
       "</table>\n",
       "</div>"
      ],
      "text/plain": [
       "                            Name                                  CommitId  \\\n",
       "0  hibernate$hibernate-validator  a3af1683e63c9c800f486552e7e5002c24b6712b   \n",
       "1  hibernate$hibernate-validator  6d6c3deaf0b499e06077383d8d3add43f30ba099   \n",
       "2  hibernate$hibernate-validator  6d6c3deaf0b499e06077383d8d3add43f30ba099   \n",
       "3  hibernate$hibernate-validator  25350de39ef9484997999f6e6d8f00abc5d51546   \n",
       "4  hibernate$hibernate-validator  25350de39ef9484997999f6e6d8f00abc5d51546   \n",
       "5  hibernate$hibernate-validator  25350de39ef9484997999f6e6d8f00abc5d51546   \n",
       "6  hibernate$hibernate-validator  eb4bfddcf617814939bacafa18055d096ba67c5b   \n",
       "7  hibernate$hibernate-validator  bba15b47580d61655ef28be8e2dfe41595476b83   \n",
       "8  hibernate$hibernate-validator  bba15b47580d61655ef28be8e2dfe41595476b83   \n",
       "9  hibernate$hibernate-validator  bba15b47580d61655ef28be8e2dfe41595476b83   \n",
       "\n",
       "      RefactoringType                                           FilePath  \\\n",
       "0  Move Source Folder                                                src   \n",
       "1  Move Source Folder                     hibernate-validator-legacy/src   \n",
       "2  Move Source Folder                hibernate-validator-legacy/src/test   \n",
       "3    Extract Variable  hibernate-validator/src/main/java/org/hibernat...   \n",
       "4       Rename Method  hibernate-validator/src/main/java/org/hibernat...   \n",
       "5       Rename Method  hibernate-validator/src/main/java/org/hibernat...   \n",
       "6      Move Attribute  hibernate-validator/src/main/java/org/hibernat...   \n",
       "7    Rename Attribute  hibernate-validator/src/main/java/org/hibernat...   \n",
       "8    Rename Attribute  hibernate-validator/src/main/java/org/hibernat...   \n",
       "9       Rename Method  hibernate-validator/src/main/java/org/hibernat...   \n",
       "\n",
       "                                               Class  \\\n",
       "0                                                NaN   \n",
       "1                                                NaN   \n",
       "2                                                NaN   \n",
       "3      org.hibernate.validation.engine.ValidatorImpl   \n",
       "4      org.hibernate.validation.engine.ValidatorImpl   \n",
       "5  org.hibernate.validation.impl.ElementDescripto...   \n",
       "6      org.hibernate.validation.engine.ValidatorImpl   \n",
       "7  org.hibernate.validation.engine.MetaDataProvid...   \n",
       "8  org.hibernate.validation.impl.ConstraintDescri...   \n",
       "9  org.hibernate.validation.engine.MetaDataProvid...   \n",
       "\n",
       "                                   RefactoringDetail  \\\n",
       "0  Move Source Folder\\tsrc to hibernate-validator...   \n",
       "1  Move Source Folder\\thibernate-validator-legacy...   \n",
       "2  Move Source Folder\\thibernate-validator-legacy...   \n",
       "3  Extract Variable\\tleafBeanInstance : Object in...   \n",
       "4  Rename Method\\tpublic getBeanConstraints() : E...   \n",
       "5  Rename Method\\tpublic getReturnType() : Class ...   \n",
       "6  Move Attribute\\tpublic DEFAULT_GROUP_NAME : St...   \n",
       "7  Rename Attribute\\tconstraintMetaDataList : Lis...   \n",
       "8  Rename Attribute\\tcontexts : Set<String> to gr...   \n",
       "9  Rename Method\\tprivate getClassLevelMetadata(b...   \n",
       "\n",
       "                                             Message         AuthorName  \\\n",
       "0  Moved the legacy validator code into hibernate...  Hardy Ferentschik   \n",
       "1  Refactored build so that compile and test can ...  Hardy Ferentschik   \n",
       "2  Refactored build so that compile and test can ...  Hardy Ferentschik   \n",
       "3  BVAL-37 ConstraintDescriptor.getLeafValue()\\n\\...   Emmanuel Bernard   \n",
       "4  BVAL-37 ConstraintDescriptor.getLeafValue()\\n\\...   Emmanuel Bernard   \n",
       "5  BVAL-37 ConstraintDescriptor.getLeafValue()\\n\\...   Emmanuel Bernard   \n",
       "6  minor cleanup and improvements for logging\\n\\n...  Hardy Ferentschik   \n",
       "7  Some javadoc cleanups and refactories\\n\\ngit-s...  Hardy Ferentschik   \n",
       "8  Some javadoc cleanups and refactories\\n\\ngit-s...  Hardy Ferentschik   \n",
       "9  Some javadoc cleanups and refactories\\n\\ngit-s...  Hardy Ferentschik   \n",
       "\n",
       "                AuthorEmail  \n",
       "0  hibernate@ferentschik.de  \n",
       "1  hibernate@ferentschik.de  \n",
       "2  hibernate@ferentschik.de  \n",
       "3    emmanuel@hibernate.org  \n",
       "4    emmanuel@hibernate.org  \n",
       "5    emmanuel@hibernate.org  \n",
       "6  hibernate@ferentschik.de  \n",
       "7  hibernate@ferentschik.de  \n",
       "8  hibernate@ferentschik.de  \n",
       "9  hibernate@ferentschik.de  "
      ]
     },
     "execution_count": 4,
     "metadata": {},
     "output_type": "execute_result"
    }
   ],
   "source": [
    "data.head(10)"
   ]
  },
  {
   "cell_type": "code",
   "execution_count": 5,
   "metadata": {},
   "outputs": [
    {
     "name": "stdout",
     "output_type": "stream",
     "text": [
      "<class 'pandas.core.frame.DataFrame'>\n",
      "RangeIndex: 17317 entries, 0 to 17316\n",
      "Data columns (total 9 columns):\n",
      " #   Column             Non-Null Count  Dtype \n",
      "---  ------             --------------  ----- \n",
      " 0   Name               17317 non-null  object\n",
      " 1   CommitId           17317 non-null  object\n",
      " 2   RefactoringType    17317 non-null  object\n",
      " 3   FilePath           17317 non-null  object\n",
      " 4   Class              17126 non-null  object\n",
      " 5   RefactoringDetail  17317 non-null  object\n",
      " 6   Message            17317 non-null  object\n",
      " 7   AuthorName         17317 non-null  object\n",
      " 8   AuthorEmail        17317 non-null  object\n",
      "dtypes: object(9)\n",
      "memory usage: 1.2+ MB\n"
     ]
    }
   ],
   "source": [
    "data.info()"
   ]
  },
  {
   "cell_type": "code",
   "execution_count": 6,
   "metadata": {},
   "outputs": [
    {
     "data": {
      "text/plain": [
       "Name                   0\n",
       "CommitId               0\n",
       "RefactoringType        0\n",
       "FilePath               0\n",
       "Class                191\n",
       "RefactoringDetail      0\n",
       "Message                0\n",
       "AuthorName             0\n",
       "AuthorEmail            0\n",
       "dtype: int64"
      ]
     },
     "execution_count": 6,
     "metadata": {},
     "output_type": "execute_result"
    }
   ],
   "source": [
    "data.isnull().sum()"
   ]
  },
  {
   "cell_type": "code",
   "execution_count": 7,
   "metadata": {},
   "outputs": [
    {
     "data": {
      "text/plain": [
       "0    Hardy Ferentschik\n",
       "1    Hardy Ferentschik\n",
       "2    Hardy Ferentschik\n",
       "Name: AuthorName, dtype: object"
      ]
     },
     "execution_count": 7,
     "metadata": {},
     "output_type": "execute_result"
    }
   ],
   "source": [
    "Y=data['AuthorName']\n",
    "Y.head(3)"
   ]
  },
  {
   "cell_type": "code",
   "execution_count": 8,
   "metadata": {},
   "outputs": [],
   "source": [
    "data=data.drop(['Name','CommitId','RefactoringType','Message','AuthorEmail','Class','FilePath'],axis=1)"
   ]
  },
  {
   "cell_type": "code",
   "execution_count": 9,
   "metadata": {},
   "outputs": [
    {
     "data": {
      "text/html": [
       "<div>\n",
       "<style scoped>\n",
       "    .dataframe tbody tr th:only-of-type {\n",
       "        vertical-align: middle;\n",
       "    }\n",
       "\n",
       "    .dataframe tbody tr th {\n",
       "        vertical-align: top;\n",
       "    }\n",
       "\n",
       "    .dataframe thead th {\n",
       "        text-align: right;\n",
       "    }\n",
       "</style>\n",
       "<table border=\"1\" class=\"dataframe\">\n",
       "  <thead>\n",
       "    <tr style=\"text-align: right;\">\n",
       "      <th></th>\n",
       "      <th>RefactoringDetail</th>\n",
       "      <th>AuthorName</th>\n",
       "    </tr>\n",
       "  </thead>\n",
       "  <tbody>\n",
       "    <tr>\n",
       "      <th>0</th>\n",
       "      <td>Move Source Folder\\tsrc to hibernate-validator...</td>\n",
       "      <td>Hardy Ferentschik</td>\n",
       "    </tr>\n",
       "    <tr>\n",
       "      <th>1</th>\n",
       "      <td>Move Source Folder\\thibernate-validator-legacy...</td>\n",
       "      <td>Hardy Ferentschik</td>\n",
       "    </tr>\n",
       "    <tr>\n",
       "      <th>2</th>\n",
       "      <td>Move Source Folder\\thibernate-validator-legacy...</td>\n",
       "      <td>Hardy Ferentschik</td>\n",
       "    </tr>\n",
       "    <tr>\n",
       "      <th>3</th>\n",
       "      <td>Extract Variable\\tleafBeanInstance : Object in...</td>\n",
       "      <td>Emmanuel Bernard</td>\n",
       "    </tr>\n",
       "    <tr>\n",
       "      <th>4</th>\n",
       "      <td>Rename Method\\tpublic getBeanConstraints() : E...</td>\n",
       "      <td>Emmanuel Bernard</td>\n",
       "    </tr>\n",
       "    <tr>\n",
       "      <th>5</th>\n",
       "      <td>Rename Method\\tpublic getReturnType() : Class ...</td>\n",
       "      <td>Emmanuel Bernard</td>\n",
       "    </tr>\n",
       "    <tr>\n",
       "      <th>6</th>\n",
       "      <td>Move Attribute\\tpublic DEFAULT_GROUP_NAME : St...</td>\n",
       "      <td>Hardy Ferentschik</td>\n",
       "    </tr>\n",
       "    <tr>\n",
       "      <th>7</th>\n",
       "      <td>Rename Attribute\\tconstraintMetaDataList : Lis...</td>\n",
       "      <td>Hardy Ferentschik</td>\n",
       "    </tr>\n",
       "    <tr>\n",
       "      <th>8</th>\n",
       "      <td>Rename Attribute\\tcontexts : Set&lt;String&gt; to gr...</td>\n",
       "      <td>Hardy Ferentschik</td>\n",
       "    </tr>\n",
       "    <tr>\n",
       "      <th>9</th>\n",
       "      <td>Rename Method\\tprivate getClassLevelMetadata(b...</td>\n",
       "      <td>Hardy Ferentschik</td>\n",
       "    </tr>\n",
       "  </tbody>\n",
       "</table>\n",
       "</div>"
      ],
      "text/plain": [
       "                                   RefactoringDetail         AuthorName\n",
       "0  Move Source Folder\\tsrc to hibernate-validator...  Hardy Ferentschik\n",
       "1  Move Source Folder\\thibernate-validator-legacy...  Hardy Ferentschik\n",
       "2  Move Source Folder\\thibernate-validator-legacy...  Hardy Ferentschik\n",
       "3  Extract Variable\\tleafBeanInstance : Object in...   Emmanuel Bernard\n",
       "4  Rename Method\\tpublic getBeanConstraints() : E...   Emmanuel Bernard\n",
       "5  Rename Method\\tpublic getReturnType() : Class ...   Emmanuel Bernard\n",
       "6  Move Attribute\\tpublic DEFAULT_GROUP_NAME : St...  Hardy Ferentschik\n",
       "7  Rename Attribute\\tconstraintMetaDataList : Lis...  Hardy Ferentschik\n",
       "8  Rename Attribute\\tcontexts : Set<String> to gr...  Hardy Ferentschik\n",
       "9  Rename Method\\tprivate getClassLevelMetadata(b...  Hardy Ferentschik"
      ]
     },
     "execution_count": 9,
     "metadata": {},
     "output_type": "execute_result"
    }
   ],
   "source": [
    "data.head(10)"
   ]
  },
  {
   "cell_type": "code",
   "execution_count": 10,
   "metadata": {},
   "outputs": [
    {
     "data": {
      "text/plain": [
       "Bob Brodt            3286\n",
       "Hardy Ferentschik    1641\n",
       "Tom Copeland         1624\n",
       "Gunnar Morling       1538\n",
       "Guillaume Smet       1295\n",
       "                     ... \n",
       "Bernardo Macedo         1\n",
       "Filipe Esperandio       1\n",
       "Robin Stocker           1\n",
       "Paul Kendall            1\n",
       "Colin Wilson-Salt       1\n",
       "Name: AuthorName, Length: 106, dtype: int64"
      ]
     },
     "execution_count": 10,
     "metadata": {},
     "output_type": "execute_result"
    }
   ],
   "source": [
    "data.AuthorName.value_counts()"
   ]
  },
  {
   "cell_type": "code",
   "execution_count": 11,
   "metadata": {},
   "outputs": [
    {
     "data": {
      "text/plain": [
       "str"
      ]
     },
     "execution_count": 11,
     "metadata": {},
     "output_type": "execute_result"
    }
   ],
   "source": [
    "type(Y.iloc[0])"
   ]
  },
  {
   "cell_type": "code",
   "execution_count": 12,
   "metadata": {},
   "outputs": [
    {
     "data": {
      "text/plain": [
       "'Hardy Ferentschik'"
      ]
     },
     "execution_count": 12,
     "metadata": {},
     "output_type": "execute_result"
    }
   ],
   "source": [
    "Y.iloc[0]"
   ]
  },
  {
   "cell_type": "code",
   "execution_count": 13,
   "metadata": {},
   "outputs": [],
   "source": [
    "import sklearn\n",
    "from sklearn.feature_extraction.text import TfidfVectorizer\n",
    "from sklearn.model_selection import train_test_split\n",
    "x_train,x_test,y_train,y_test=train_test_split(data['RefactoringDetail'],data['AuthorName'],test_size=0.3,random_state=7,shuffle=True)"
   ]
  },
  {
   "cell_type": "code",
   "execution_count": 14,
   "metadata": {},
   "outputs": [
    {
     "name": "stdout",
     "output_type": "stream",
     "text": [
      "TfidfVectorizer(max_df=0.5, stop_words='english')\n"
     ]
    }
   ],
   "source": [
    "tfidf=TfidfVectorizer(stop_words='english',max_df=0.5)\n",
    "print(tfidf)"
   ]
  },
  {
   "cell_type": "code",
   "execution_count": 15,
   "metadata": {},
   "outputs": [],
   "source": [
    "vector_for_train=tfidf.fit_transform(x_train.astype('U'))\n",
    "#print(vector_for_train)\n",
    "vector_for_testing=tfidf.transform(x_test.astype('U'))\n",
    "#print(vector_for_testing)"
   ]
  },
  {
   "cell_type": "code",
   "execution_count": 1,
   "metadata": {},
   "outputs": [
    {
     "ename": "NameError",
     "evalue": "name 'vector_for_train' is not defined",
     "output_type": "error",
     "traceback": [
      "\u001b[1;31m---------------------------------------------------------------------------\u001b[0m",
      "\u001b[1;31mNameError\u001b[0m                                 Traceback (most recent call last)",
      "\u001b[1;32m<ipython-input-1-4e253fc93467>\u001b[0m in \u001b[0;36m<module>\u001b[1;34m\u001b[0m\n\u001b[0;32m      5\u001b[0m \u001b[0mpred_proba\u001b[0m \u001b[1;33m=\u001b[0m \u001b[1;33m[\u001b[0m\u001b[1;33m]\u001b[0m\u001b[1;33m\u001b[0m\u001b[1;33m\u001b[0m\u001b[0m\n\u001b[0;32m      6\u001b[0m \u001b[0mtree\u001b[0m\u001b[1;33m=\u001b[0m\u001b[0mDecisionTreeClassifier\u001b[0m\u001b[1;33m(\u001b[0m\u001b[0mmax_depth\u001b[0m \u001b[1;33m=\u001b[0m\u001b[1;36m15\u001b[0m\u001b[1;33m,\u001b[0m\u001b[0mcriterion\u001b[0m\u001b[1;33m=\u001b[0m\u001b[1;34m'entropy'\u001b[0m\u001b[1;33m)\u001b[0m\u001b[1;33m\u001b[0m\u001b[1;33m\u001b[0m\u001b[0m\n\u001b[1;32m----> 7\u001b[1;33m \u001b[0mtree\u001b[0m\u001b[1;33m.\u001b[0m\u001b[0mfit\u001b[0m\u001b[1;33m(\u001b[0m\u001b[0mvector_for_train\u001b[0m\u001b[1;33m,\u001b[0m \u001b[0my_train\u001b[0m\u001b[1;33m)\u001b[0m\u001b[1;33m\u001b[0m\u001b[1;33m\u001b[0m\u001b[0m\n\u001b[0m\u001b[0;32m      8\u001b[0m \u001b[1;33m\u001b[0m\u001b[0m\n\u001b[0;32m      9\u001b[0m \u001b[0mpredictions\u001b[0m \u001b[1;33m=\u001b[0m \u001b[0mtree\u001b[0m\u001b[1;33m.\u001b[0m\u001b[0mpredict\u001b[0m\u001b[1;33m(\u001b[0m\u001b[0mvector_for_testing\u001b[0m\u001b[1;33m)\u001b[0m\u001b[1;33m\u001b[0m\u001b[1;33m\u001b[0m\u001b[0m\n",
      "\u001b[1;31mNameError\u001b[0m: name 'vector_for_train' is not defined"
     ]
    }
   ],
   "source": [
    "from sklearn.linear_model import PassiveAggressiveClassifier\n",
    "from sklearn import metrics\n",
    "from sklearn.tree import DecisionTreeClassifier\n",
    "predictions = []\n",
    "pred_proba = []\n",
    "tree=DecisionTreeClassifier(max_depth =15,criterion='entropy') \n",
    "tree.fit(vector_for_train, y_train)\n",
    "\n",
    "predictions = tree.predict(vector_for_testing)\n",
    "pred_proba = tree.predict_proba(vector_for_testing)\n",
    "tree.score(vector_for_testing,y_test)\n",
    "print(metrics.classification_report(y_test,predictions))"
   ]
  },
  {
   "cell_type": "code",
   "execution_count": 17,
   "metadata": {},
   "outputs": [
    {
     "data": {
      "text/plain": [
       "PassiveAggressiveClassifier(C=0.5, random_state=10)"
      ]
     },
     "execution_count": 17,
     "metadata": {},
     "output_type": "execute_result"
    }
   ],
   "source": [
    "from sklearn import metrics\n",
    "from sklearn.linear_model import PassiveAggressiveClassifier\n",
    "classifier_model = PassiveAggressiveClassifier(C = 0.5, random_state = 10)\n",
    "classifier_model.fit(vector_for_train,y_train)"
   ]
  },
  {
   "cell_type": "code",
   "execution_count": 18,
   "metadata": {},
   "outputs": [],
   "source": [
    "pred_proba=classifier_model.predict(vector_for_testing)"
   ]
  },
  {
   "cell_type": "code",
   "execution_count": 19,
   "metadata": {},
   "outputs": [
    {
     "name": "stdout",
     "output_type": "stream",
     "text": [
      "Test Set Accuracy : 84.08391070053888 %\n",
      "\n",
      "\n",
      "                           precision    recall  f1-score   support\n",
      "\n",
      "            Akshat Bahety       1.00      1.00      1.00         2\n",
      "               Alan Ezust       0.00      0.00      0.00         1\n",
      "             Alex Chaffee       0.00      0.00      0.00         2\n",
      "             Allan Caplan       0.80      0.94      0.87        35\n",
      "           Andreas Dangel       0.79      0.71      0.75       267\n",
      "         Andrey Lumyanski       0.50      0.50      0.50         2\n",
      "              Andrey Utis       0.00      0.00      0.00         2\n",
      "                      BBG       0.67      0.80      0.73         5\n",
      "            Bendegúz Nagy       0.92      0.94      0.93        49\n",
      "          Bernardo Macedo       0.00      0.00      0.00         1\n",
      "                Bob Brodt       0.98      0.99      0.99       986\n",
      "            Brent Douglas       0.00      0.00      0.00         0\n",
      "           Brian Remedios       0.87      0.89      0.88       323\n",
      "            Brice Dutheil       1.00      1.00      1.00         4\n",
      "             Chris Beckey       1.00      1.00      1.00         1\n",
      "          Christofer Dutz       0.00      0.00      0.00         2\n",
      "         Clément Fournier       0.87      0.84      0.85       229\n",
      "        Colin Wilson-Salt       0.00      0.00      0.00         1\n",
      "               Dale Anson       0.82      0.82      0.82        11\n",
      "             David Craine       0.75      0.75      0.75        12\n",
      "        David Dixon-Peugh       1.00      0.25      0.40         4\n",
      "               David Renz       0.50      0.20      0.29         5\n",
      "            Davide D'Alto       0.00      0.00      0.00         0\n",
      "               Don Leckie       0.99      0.97      0.98        68\n",
      "         Emmanuel Bernard       0.77      0.69      0.73        64\n",
      "        Filipe Esperandio       0.00      0.00      0.00         1\n",
      "             Flavio Donzé       0.92      0.96      0.94        24\n",
      "            Freddy Mallet       0.68      0.76      0.72        55\n",
      "          George Gastaldi       0.50      0.25      0.33         4\n",
      "           Guillaume Smet       0.87      0.86      0.87       377\n",
      "           Gunnar Morling       0.76      0.77      0.76       461\n",
      "    Gunnlaugur Thor Briem       0.67      0.50      0.57         8\n",
      "        Hardy Ferentschik       0.76      0.78      0.77       501\n",
      "           Jan Aertgeerts       0.00      0.00      0.00         0\n",
      "            Jan van Nunen       1.00      1.00      1.00         1\n",
      "                Jeff Hube       0.60      0.75      0.67         4\n",
      "              Jiger Patel       1.00      0.50      0.67         4\n",
      "        José Manuel Rolón       1.00      1.00      1.00         1\n",
      "Juan Martín Sotuyo Dodero       0.66      0.71      0.69        49\n",
      "             Kevin Pollet       0.54      0.62      0.58        32\n",
      "          Khalid Alqinyah       0.97      0.97      0.97        34\n",
      "             Matias Fraga       1.00      1.00      1.00         1\n",
      "            Matthew Short       0.00      0.00      0.00         2\n",
      "            Matthias Kurz       0.00      0.00      0.00         1\n",
      "            Miguel Griffa       1.00      0.33      0.50         3\n",
      "          Ole-Martin Mork       0.70      0.88      0.78         8\n",
      "                Oowekyala       0.00      0.00      0.00         4\n",
      "               Paul Leacu       0.00      0.00      0.00         2\n",
      "                Pete Muir       0.00      0.00      0.00         1\n",
      "              Philip Graf       0.00      0.00      0.00         1\n",
      "          Philippe Herlin       0.83      0.78      0.80        91\n",
      "            Radim Kubacki       0.60      0.60      0.60         5\n",
      "     Robert M und David R       1.00      1.00      1.00         1\n",
      "         Robert Sösemann       0.83      1.00      0.91         5\n",
      "          Robert Whitebit       0.00      0.00      0.00         1\n",
      "            Robin Stocker       0.00      0.00      0.00         1\n",
      "           Romain PELISSE       1.00      0.17      0.29         6\n",
      "           Romain Pelisse       0.54      0.39      0.45        18\n",
      "           Ryan Gustafson       0.76      0.79      0.78       337\n",
      "                   Sergey       0.82      0.97      0.89        34\n",
      "           Sergey Gorbaty       1.00      0.83      0.91         6\n",
      "            Stuart Turton       0.91      0.95      0.93        42\n",
      "               Sven Jacob       0.55      0.65      0.59        17\n",
      "             Tom Copeland       0.88      0.90      0.89       533\n",
      "          Torsten Kleiber       0.66      1.00      0.79        21\n",
      "           Victor Bucutea       0.46      0.67      0.55         9\n",
      "Victor Rezende dos Santos       1.00      0.55      0.71        11\n",
      "             Wouter Zelle       0.00      0.00      0.00         2\n",
      "         Xavier Le Vourch       0.81      0.74      0.77       106\n",
      "            Yoann Rodière       0.50      0.14      0.22         7\n",
      "                adrobisch       0.50      1.00      0.67         1\n",
      "             akshatbahety       1.00      0.43      0.60         7\n",
      "                 bfitzpat       0.00      0.00      0.00         1\n",
      "                  gonzalo       0.50      0.50      0.50         6\n",
      "             kevin pollet       0.00      0.00      0.00         6\n",
      "             kshantaraman       1.00      1.00      1.00         1\n",
      "                  ledoyen       0.00      0.00      0.00         1\n",
      "             marko-bekhta       0.71      0.66      0.68        87\n",
      "             marko.bekhta       0.20      0.33      0.25         3\n",
      "                      mrb       0.00      0.00      0.00         0\n",
      "                oowekyala       0.85      0.90      0.87       154\n",
      "                   rbrodt       0.71      0.36      0.48        14\n",
      "                   stawny       1.00      1.00      1.00         7\n",
      "\n",
      "                 accuracy                           0.84      5196\n",
      "                macro avg       0.57      0.53      0.53      5196\n",
      "             weighted avg       0.84      0.84      0.84      5196\n",
      "\n"
     ]
    }
   ],
   "source": [
    "from sklearn.metrics import classification_report, accuracy_score\n",
    "print(f\"Test Set Accuracy : {accuracy_score(y_test, pred_proba) * 100} %\\n\\n\")\n",
    "print(metrics.classification_report(y_test,pred_proba))"
   ]
  },
  {
   "cell_type": "code",
   "execution_count": 20,
   "metadata": {},
   "outputs": [],
   "source": [
    "from sklearn import svm\n",
    "clf = svm.SVC(kernel='linear',gamma='scale')\n",
    "clf.fit(vector_for_train,y_train)\n",
    "y_pred = clf.predict(vector_for_testing)"
   ]
  },
  {
   "cell_type": "code",
   "execution_count": 21,
   "metadata": {},
   "outputs": [
    {
     "name": "stdout",
     "output_type": "stream",
     "text": [
      "Accuracy: 0.8389145496535797\n"
     ]
    }
   ],
   "source": [
    "from sklearn import metrics\n",
    "print(\"Accuracy:\",metrics.accuracy_score(y_test, y_pred))\n",
    "#print(\"Precision:\",metrics.precision_score(y_test, y_pred))\n",
    "#print(\"Recall:\",metrics.recall_score(y_test, y_pred))"
   ]
  },
  {
   "cell_type": "code",
   "execution_count": null,
   "metadata": {},
   "outputs": [],
   "source": [
    "print(\"Precision:\",metrics.precision_score(y_test, y_pred,pos_label='positive',average='macro'))\n",
    "print(\"Recall:\",metrics.recall_score(y_test, y_pred,pos_label='positive',average='macro'))"
   ]
  },
  {
   "cell_type": "code",
   "execution_count": null,
   "metadata": {},
   "outputs": [],
   "source": []
  }
 ],
 "metadata": {
  "kernelspec": {
   "display_name": "Python 3",
   "language": "python",
   "name": "python3"
  },
  "language_info": {
   "codemirror_mode": {
    "name": "ipython",
    "version": 3
   },
   "file_extension": ".py",
   "mimetype": "text/x-python",
   "name": "python",
   "nbconvert_exporter": "python",
   "pygments_lexer": "ipython3",
   "version": "3.8.5"
  }
 },
 "nbformat": 4,
 "nbformat_minor": 4
}
